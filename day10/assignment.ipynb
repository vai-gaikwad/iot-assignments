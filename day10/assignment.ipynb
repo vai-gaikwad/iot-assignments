{
 "cells": [
  {
   "cell_type": "markdown",
   "id": "f127c7d9-041f-49e8-a2b4-1e2412b9766c",
   "metadata": {},
   "source": []
  },
  {
   "cell_type": "markdown",
   "id": "155b3090-9d5f-447b-b5b6-286e7809d415",
   "metadata": {},
   "source": [
    "Numpy_Assignment"
   ]
  },
  {
   "cell_type": "raw",
   "id": "014d3db3-5635-4b45-965f-b7dc73d93fae",
   "metadata": {},
   "source": [
    "# 1Write a NumPy program to create an array with the values 1, 7, 13, 105 and determine the size of the memory occupied by the array."
   ]
  },
  {
   "cell_type": "code",
   "execution_count": 1,
   "id": "de6fd779-a5df-4ee5-b327-1babdb631af3",
   "metadata": {},
   "outputs": [],
   "source": [
    "import numpy as np"
   ]
  },
  {
   "cell_type": "code",
   "execution_count": 3,
   "id": "fdaed362-9711-44fc-89c6-ee262b2edc5e",
   "metadata": {},
   "outputs": [
    {
     "name": "stdout",
     "output_type": "stream",
     "text": [
      "[  1   7  13 105]\n",
      "size of element of array= 8\n",
      "no of elements present in array = 4\n",
      "so total size of array = element size * no of elements\n",
      "size of arr in bytes =32\n"
     ]
    }
   ],
   "source": [
    "arr=np.array([1,7,13,105])\n",
    "print(arr)\n",
    "print(f\"size of element of array= {arr.itemsize}\")\n",
    "print(f\"no of elements present in array = {arr.size}\")\n",
    "print(\"so total size of array = element size * no of elements\")\n",
    "print(f\"size of arr in bytes ={arr.nbytes}\")"
   ]
  },
  {
   "cell_type": "raw",
   "id": "88d12fbb-efb2-4ebe-ab77-5c900bb80f9d",
   "metadata": {},
   "source": []
  },
  {
   "cell_type": "raw",
   "id": "6bb9c7a7-bfcb-48a5-bcef-efcf1206625e",
   "metadata": {},
   "source": [
    "# 2. Write a NumPy program to create an element-wise comparison (greater,    greater_equal, less and less_equal) of two given arrays.\n"
   ]
  },
  {
   "cell_type": "code",
   "execution_count": 6,
   "id": "a5946771-644f-43c5-8f74-20977d5ef387",
   "metadata": {},
   "outputs": [
    {
     "name": "stdout",
     "output_type": "stream",
     "text": [
      "10 is less than 30\n",
      "20 is greater qual 20\n",
      "30 is greater than 10\n",
      "40 is less than 50\n",
      "50 is greater than 10\n"
     ]
    }
   ],
   "source": [
    "arr1=np.array([10,20,30,40,50])\n",
    "arr2=np.array([30,20,10,50,10])\n",
    "for i in range(0,5):\n",
    "    if(arr1[i]>arr2[i]):\n",
    "        print(f\"{arr1[i]} is greater than {arr2[i]}\")\n",
    "    elif(arr1[i]<arr2[i]):\n",
    "        print(f\"{arr1[i]} is less than {arr2[i]}\")\n",
    "    elif(arr1[i]>=arr2[i] or arr1[i]==arr2[i]):\n",
    "        print(f\"{arr1[i]} is greater qual {arr2[i]}\")\n",
    "    elif(arr1[i]<=arr2[i] or arr1[i]==arr2[i]):\n",
    "        print(f\"{arr1[i]} is less equal {arr2[i]}\")    "
   ]
  },
  {
   "cell_type": "raw",
   "id": "7d111aac-1181-4f2c-8bb4-d7032998afd0",
   "metadata": {},
   "source": [
    "# 3.  Write a NumPy program to create an array of 10 zeros, 10 ones, 10    fives, 10 tens, 10 twentys and 10 fiftys."
   ]
  },
  {
   "cell_type": "code",
   "execution_count": 29,
   "id": "0b7a3d4a-db2a-4711-a788-88d0654c258a",
   "metadata": {},
   "outputs": [
    {
     "name": "stdout",
     "output_type": "stream",
     "text": [
      "array of 10 zeros = [0. 0. 0. 0. 0. 0. 0. 0. 0. 0.]\n",
      "array of 10 ones = [1. 1. 1. 1. 1. 1. 1. 1. 1. 1.]\n",
      "array of 10 fives = [5. 5. 5. 5. 5. 5. 5. 5. 5. 5.]\n",
      "array of 10 tens = [10. 10. 10. 10. 10. 10. 10. 10. 10. 10.]\n",
      "array of 10 twenty = [20. 20. 20. 20. 20. 20. 20. 20. 20. 20.]\n",
      "array of 10 fifty = [50. 50. 50. 50. 50. 50. 50. 50. 50. 50.]\n",
      "array concatenation=\n",
      "[ 0.  0.  0.  0.  0.  0.  0.  0.  0.  0.  1.  1.  1.  1.  1.  1.  1.  1.\n",
      "  1.  1.  5.  5.  5.  5.  5.  5.  5.  5.  5.  5. 10. 10. 10. 10. 10. 10.\n",
      " 10. 10. 10. 10. 20. 20. 20. 20. 20. 20. 20. 20. 20. 20. 50. 50. 50. 50.\n",
      " 50. 50. 50. 50. 50. 50.]\n",
      "Dtype = float64\n"
     ]
    }
   ],
   "source": [
    "tenz=np.zeros(10)\n",
    "print(f\"array of 10 zeros = {tenz}\")\n",
    "teno=np.ones(10)\n",
    "print(f\"array of 10 ones = {teno}\")\n",
    "ten5=np.ones(10)*5\n",
    "print(f\"array of 10 fives = {ten5}\")\n",
    "ten10=np.ones(10)*10\n",
    "print(f\"array of 10 tens = {ten10}\")\n",
    "ten20=np.ones(10)*20\n",
    "print(f\"array of 10 twenty = {ten20}\")\n",
    "ten50=np.ones(10)*50\n",
    "print(f\"array of 10 fifty = {ten50}\")\n",
    "\n",
    "arr_all= np.concatenate((tenz,teno,ten5,ten10,ten20,ten50))\n",
    "print(f\"array concatenation=\")\n",
    "print(arr_all)\n",
    "print(f\"Dtype = {tenz.dtype}\")"
   ]
  },
  {
   "cell_type": "raw",
   "id": "b0b5feba-0560-46ca-8bed-3a9701675461",
   "metadata": {},
   "source": []
  },
  {
   "cell_type": "raw",
   "id": "ff2f957d-e5cf-42fb-970b-057622cdd077",
   "metadata": {},
   "source": [
    "# 4. Write a NumPy program to create an array of integers from 30 to 70."
   ]
  },
  {
   "cell_type": "code",
   "execution_count": 31,
   "id": "10e56588-9d2d-44c6-a3de-4fce8ae0f4f9",
   "metadata": {},
   "outputs": [
    {
     "name": "stdout",
     "output_type": "stream",
     "text": [
      "[30 31 32 33 34 35 36 37 38 39 40 41 42 43 44 45 46 47 48 49 50 51 52 53\n",
      " 54 55 56 57 58 59 60 61 62 63 64 65 66 67 68 69]\n"
     ]
    }
   ],
   "source": [
    "arr_range_30_70=np.arange(30,71)\n",
    "print(arr_range_30_70)"
   ]
  },
  {
   "cell_type": "raw",
   "id": "c5e9dfc2-8dba-43dc-8fbd-451070f8e9f6",
   "metadata": {},
   "source": []
  },
  {
   "cell_type": "raw",
   "id": "e1f98b77-b855-4626-9b05-7d5fc561c687",
   "metadata": {},
   "source": [
    "# 5. Write a NumPy program to create an array of integers from 50 to 95."
   ]
  },
  {
   "cell_type": "code",
   "execution_count": 36,
   "id": "b72df849-75c2-4858-9f23-9cb3ac7f0b1d",
   "metadata": {},
   "outputs": [
    {
     "name": "stdout",
     "output_type": "stream",
     "text": [
      "[50 51 52 53 54 55 56 57 58 59 60 61 62 63 64 65 66 67 68 69 70 71 72 73\n",
      " 74 75 76 77 78 79 80 81 82 83 84 85 86 87 88 89 90 91 92 93 94 95]\n"
     ]
    }
   ],
   "source": [
    "arr_range_50_95=np.arange(50,96)\n",
    "print(arr_range_50_95)"
   ]
  },
  {
   "cell_type": "raw",
   "id": "cf2854f4-5d7c-4181-933b-4f48277e116e",
   "metadata": {},
   "source": []
  },
  {
   "cell_type": "raw",
   "id": "3d1adba2-70a9-4e20-8ffb-84708d304151",
   "metadata": {},
   "source": [
    "# 6. Write a NumPy program to create an array of all even integers from 20 to 80."
   ]
  },
  {
   "cell_type": "raw",
   "id": "11f7ae2d-4b48-4c40-9d1a-9d9c9a2bd1d7",
   "metadata": {},
   "source": [
    "arr_even_20_80=np.arange(20,81,2)\n",
    "print(arr_even_20_80)"
   ]
  },
  {
   "cell_type": "raw",
   "id": "8dcc616b-fe51-4278-b333-80dfa2b683f0",
   "metadata": {},
   "source": []
  },
  {
   "cell_type": "raw",
   "id": "0f4f059a-a7ee-446e-8306-73becee446e8",
   "metadata": {},
   "source": [
    "#7. Write a NumPy program to create an array of all odd integers from 20 to 80."
   ]
  },
  {
   "cell_type": "code",
   "execution_count": 45,
   "id": "012bd5d1-c2b5-4f22-8d68-72a24b9560a6",
   "metadata": {},
   "outputs": [
    {
     "name": "stdout",
     "output_type": "stream",
     "text": [
      "[21 23 25 27 29 31 33 35 37 39 41 43 45 47 49 51 53 55 57 59 61 63 65 67\n",
      " 69 71 73 75 77 79]\n"
     ]
    }
   ],
   "source": [
    "arr_odd_20_80=np.arange(21,80,2)\n",
    "print(arr_odd_20_80)"
   ]
  },
  {
   "cell_type": "code",
   "execution_count": null,
   "id": "7873b523-22f8-4678-bcd9-fbfca9ceb114",
   "metadata": {},
   "outputs": [],
   "source": []
  },
  {
   "cell_type": "raw",
   "id": "e5b50cef-41f8-4f74-b606-3d3d6984268a",
   "metadata": {},
   "source": [
    "# 8. Write a NumPy program to generate an array of 15 random numbers from 10    to 40."
   ]
  },
  {
   "cell_type": "code",
   "execution_count": 48,
   "id": "b67e25a8-afa9-4b2e-ac4b-57071b27c095",
   "metadata": {},
   "outputs": [
    {
     "name": "stdout",
     "output_type": "stream",
     "text": [
      "[13 16 35 23 36 12 12 39 28 25 28 30 27 32 33]\n"
     ]
    }
   ],
   "source": [
    "rand15 = np.random.randint(10,40,15)\n",
    "print(rand15)"
   ]
  },
  {
   "cell_type": "raw",
   "id": "2fbb2eab-0533-4cfe-8ee5-f91d76cb3676",
   "metadata": {},
   "source": []
  },
  {
   "cell_type": "raw",
   "id": "856ebdd3-a46e-4676-a87d-ecbc310837dd",
   "metadata": {},
   "source": [
    "# 9. Write a NumPy program to generate an array of 10 random numbers from 30    to 50.\n"
   ]
  },
  {
   "cell_type": "code",
   "execution_count": 50,
   "id": "696c9021-cf12-4374-888e-028195606982",
   "metadata": {},
   "outputs": [
    {
     "name": "stdout",
     "output_type": "stream",
     "text": [
      "[41 48 45 34 42 32 46 38 49 33]\n"
     ]
    }
   ],
   "source": [
    "rand10 = np.random.randint(30,50,10)\n",
    "print(rand10)"
   ]
  },
  {
   "cell_type": "raw",
   "id": "110d2715-a223-4a87-9ae1-5ddeb0bd6f5e",
   "metadata": {},
   "source": []
  },
  {
   "cell_type": "raw",
   "id": "88e5410a-5a4e-49e9-992d-c08317214ead",
   "metadata": {},
   "source": [
    "# 10. Write a NumPy program to generate an array of 20 random numbers from 50    to 90."
   ]
  },
  {
   "cell_type": "code",
   "execution_count": 51,
   "id": "58b7edc9-41a2-4666-a0a0-b09193f9b9ca",
   "metadata": {},
   "outputs": [
    {
     "name": "stdout",
     "output_type": "stream",
     "text": [
      "[59 80 76 80 73 86 65 57 73 61 73 88 63 54 83 73 80 65 70 75]\n"
     ]
    }
   ],
   "source": [
    "rand20 = np.random.randint(50,90,20)\n",
    "print(rand20)"
   ]
  },
  {
   "cell_type": "raw",
   "id": "ff7189ee-7961-4b80-8b1a-ae80fa3b81f2",
   "metadata": {},
   "source": []
  },
  {
   "cell_type": "raw",
   "id": "2ee4c195-9362-43db-9815-0ada4791bbb2",
   "metadata": {},
   "source": [
    "# 11. Create any two arrays & perform various mathematical operations.\n",
    "    i.e. Addition, Substraction, Multiplication, Divide.\n"
   ]
  },
  {
   "cell_type": "code",
   "execution_count": 68,
   "id": "fa45ff6d-06d0-4a8a-a332-85a860a67d0a",
   "metadata": {},
   "outputs": [
    {
     "name": "stdout",
     "output_type": "stream",
     "text": [
      "array1 = [10 12 14 16 18]\n",
      "array2 = [30 32 34 36 38]\n",
      "array additon [40 44 48 52 56]\n",
      "array multiplication [300 384 476 576 684]\n",
      "array substraction [-20 -20 -20 -20 -20]\n",
      "array division [0.33333333 0.375      0.41176471 0.44444444 0.47368421]\n"
     ]
    }
   ],
   "source": [
    "arr1=np.arange(10,20,2)\n",
    "arr2=np.arange(30,40,2)\n",
    "print(f\"array1 = {arr1}\")\n",
    "print(f\"array2 = {arr2}\")\n",
    "print(f\"array additon {arr1+arr2}\")\n",
    "print(f\"array multiplication {arr1*arr2}\")\n",
    "print(f\"array substraction {arr1-arr2}\")\n",
    "print(f\"array division {arr1/arr2}\")"
   ]
  },
  {
   "cell_type": "raw",
   "id": "d4695efc-6045-4558-9ddf-af5fe0bc7e72",
   "metadata": {},
   "source": []
  },
  {
   "cell_type": "raw",
   "id": "806aa14b-3930-46e8-b56d-0082b9de413b",
   "metadata": {},
   "source": [
    "# 12. Write a NumPy program to create a 3x4 matrix filled with values from 10     to 21."
   ]
  },
  {
   "cell_type": "code",
   "execution_count": 70,
   "id": "9fe351a0-ef7a-4a8c-ac24-0a1d8d5dfc33",
   "metadata": {},
   "outputs": [
    {
     "name": "stdout",
     "output_type": "stream",
     "text": [
      "array of 10 to 21 [10 11 12 13 14 15 16 17 18 19 20 21]\n",
      "array of 10 to 21 in 3 row 4 col \n",
      "[[10 11 12 13]\n",
      " [14 15 16 17]\n",
      " [18 19 20 21]]\n"
     ]
    }
   ],
   "source": [
    "arr3=np.arange(10,22)\n",
    "print(f\"array of 10 to 21 {arr3}\")\n",
    "arr4=arr3.reshape([3,4])\n",
    "print(f\"array of 10 to 21 in 3 row 4 col \")\n",
    "print(arr4)"
   ]
  },
  {
   "cell_type": "raw",
   "id": "18d47f03-016b-41b4-8f41-c4eaef53c294",
   "metadata": {},
   "source": []
  },
  {
   "cell_type": "raw",
   "id": "66f8ea6b-f552-4d44-91df-ac5034ecc5ee",
   "metadata": {},
   "source": [
    "13. Write a NumPy program to create a 3x3 identity matrix, i.e. the diagonal     elements are 1, the rest are 0."
   ]
  },
  {
   "cell_type": "code",
   "execution_count": 2,
   "id": "172d3e70-75de-453d-8489-c1e2378d8a63",
   "metadata": {},
   "outputs": [
    {
     "name": "stdout",
     "output_type": "stream",
     "text": [
      "[0. 0. 0. 0. 0. 0. 0. 0. 0.]\n",
      "i=1 j= 1\n",
      "i=1 j= 2\n",
      "i=1 j= 3\n",
      "i=2 j= 1\n",
      "i=2 j= 2\n",
      "i=2 j= 3\n",
      "i=3 j= 1\n",
      "i=3 j= 2\n",
      "i=3 j= 3\n",
      "[1. 0. 0. 0. 1. 0. 0. 0. 1.]\n",
      "[[1. 0. 0.]\n",
      " [0. 1. 0.]\n",
      " [0. 0. 1.]]\n"
     ]
    }
   ],
   "source": [
    "arr5=np.zeros(9)\n",
    "print(arr5)\n",
    "c=0\n",
    "for i in range (1,4):\n",
    "    for j in range(1,4):\n",
    "        print(f\"i={i} j= {j}\")\n",
    "        if i==j:\n",
    "            arr5[c]=1\n",
    "        c=c+1\n",
    "\n",
    "print(arr5)\n",
    "arr6=arr5.reshape([3,3])\n",
    "print(arr6)"
   ]
  },
  {
   "cell_type": "code",
   "execution_count": 3,
   "id": "f3afcb63-0d2a-4796-8c61-437dfba72eea",
   "metadata": {},
   "outputs": [],
   "source": [
    "# 13 using identity matrix"
   ]
  },
  {
   "cell_type": "code",
   "execution_count": 4,
   "id": "a5666b45-b888-4d2b-b053-09f284211800",
   "metadata": {},
   "outputs": [
    {
     "name": "stdout",
     "output_type": "stream",
     "text": [
      "3x3 Identity Matrix:\n",
      "[[1. 0. 0.]\n",
      " [0. 1. 0.]\n",
      " [0. 0. 1.]]\n"
     ]
    }
   ],
   "source": [
    "\n",
    "\n",
    "# Create a 3x3 identity matrix\n",
    "identity_matrix = np.eye(3)\n",
    "\n",
    "print(\"3x3 Identity Matrix:\")\n",
    "print(identity_matrix)\n"
   ]
  },
  {
   "cell_type": "code",
   "execution_count": 5,
   "id": "7e1dbf40-7590-441a-9692-ea81cfe4b670",
   "metadata": {},
   "outputs": [
    {
     "name": "stdout",
     "output_type": "stream",
     "text": [
      "2\n"
     ]
    }
   ],
   "source": [
    "print(arr6.ndim)"
   ]
  },
  {
   "cell_type": "code",
   "execution_count": 7,
   "id": "f36c4232-1156-4646-9f36-de843badfc1a",
   "metadata": {},
   "outputs": [
    {
     "name": "stdout",
     "output_type": "stream",
     "text": [
      "rows= 3 column = 3\n"
     ]
    }
   ],
   "source": [
    "row,col=arr6.shape\n",
    "print(f\"rows= {row} column = {col}\")"
   ]
  },
  {
   "cell_type": "raw",
   "id": "2543b57a-69ed-42a0-8500-b0d623ff4652",
   "metadata": {},
   "source": []
  },
  {
   "cell_type": "code",
   "execution_count": 9,
   "id": "3219e437-9ff3-4edb-8d1a-f76dfde95af9",
   "metadata": {},
   "outputs": [],
   "source": [
    "\n",
    "#  15. Write a NumPy program to create a 5x5 zero matrix with elements on the  main diagonal equal to 1, 2, 3, 4, 5.\n"
   ]
  },
  {
   "cell_type": "code",
   "execution_count": 16,
   "id": "131a491d-cf9a-45fa-b992-a267b8fb913c",
   "metadata": {},
   "outputs": [
    {
     "name": "stdout",
     "output_type": "stream",
     "text": [
      "[[1. 0. 0. 0. 0.]\n",
      " [0. 2. 0. 0. 0.]\n",
      " [0. 0. 3. 0. 0.]\n",
      " [0. 0. 0. 4. 0.]\n",
      " [0. 0. 0. 0. 5.]]\n"
     ]
    }
   ],
   "source": [
    "arr7=np.zeros(25)\n",
    "#print(arr7)\n",
    "c=0\n",
    "n=1\n",
    "for i in range (1,6):\n",
    "    for j in range(1,6):\n",
    "       # print(f\"i={i} j= {j}\")\n",
    "        if i==j:\n",
    "            arr7[c]=n\n",
    "            n=n+1\n",
    "        c=c+1\n",
    "        \n",
    "#print(arr7)\n",
    "arr8=arr7.reshape([5,5])\n",
    "print(arr8)"
   ]
  },
  {
   "cell_type": "raw",
   "id": "fcd64e02-7dd0-4da8-9d29-2d1489fa1e8f",
   "metadata": {},
   "source": []
  },
  {
   "cell_type": "raw",
   "id": "b4e60df2-ec91-4930-a066-a7c9c91ba5bc",
   "metadata": {},
   "source": [
    "# 16. Write a NumPy program to create a 3x3x3 array filled with arbitrary     values."
   ]
  },
  {
   "cell_type": "code",
   "execution_count": 21,
   "id": "9c32f06c-938c-4ff9-922b-0fa5bc651f65",
   "metadata": {},
   "outputs": [
    {
     "name": "stdout",
     "output_type": "stream",
     "text": [
      "[27  9  4 42 17 44 37 35 46 14 44  3 33 34  5 36 13 19 29 29 49 26 47 30\n",
      " 38 48 30]\n",
      "[[[27  9  4]\n",
      "  [42 17 44]\n",
      "  [37 35 46]]\n",
      "\n",
      " [[14 44  3]\n",
      "  [33 34  5]\n",
      "  [36 13 19]]\n",
      "\n",
      " [[29 29 49]\n",
      "  [26 47 30]\n",
      "  [38 48 30]]]\n"
     ]
    }
   ],
   "source": [
    "arr9=np.random.randint(1,50,27)\n",
    "print(arr9)\n",
    "arr9=arr9.reshape([3,3,3])\n",
    "print(arr9)"
   ]
  },
  {
   "cell_type": "raw",
   "id": "1b8e481c-3e50-4f63-9b72-584f87819d9b",
   "metadata": {},
   "source": []
  },
  {
   "cell_type": "raw",
   "id": "dd3c75c4-3b81-4ca2-922d-b3849ef178ef",
   "metadata": {},
   "source": [
    "# 17. Write a NumPy program to create a 2x3x4 array filled with arbitrary     values."
   ]
  },
  {
   "cell_type": "code",
   "execution_count": 28,
   "id": "70fa2fe8-608a-4fc3-ab98-92edf0fe920f",
   "metadata": {},
   "outputs": [
    {
     "name": "stdout",
     "output_type": "stream",
     "text": [
      "[[[ 9  2 25 13]\n",
      "  [19  9  6 29]\n",
      "  [31 33 23  3]]\n",
      "\n",
      " [[ 3 44 35 19]\n",
      "  [ 3 13 25 41]\n",
      "  [ 1 45 36 35]]]\n"
     ]
    }
   ],
   "source": [
    "arr10=np.random.randint(1,50,24)\n",
    "#print(arr9)\n",
    "arr10=arr10.reshape([2,3,4])\n",
    "print(arr10)"
   ]
  },
  {
   "cell_type": "code",
   "execution_count": 29,
   "id": "2e153235-cbe6-4d99-a19e-aea39c5c86c6",
   "metadata": {},
   "outputs": [
    {
     "name": "stdout",
     "output_type": "stream",
     "text": [
      "(2, 3, 4)\n"
     ]
    }
   ],
   "source": [
    "print(arr10.shape)"
   ]
  },
  {
   "cell_type": "raw",
   "id": "9599bcc4-f7fc-4787-b6eb-520c68be01a1",
   "metadata": {},
   "source": []
  },
  {
   "cell_type": "raw",
   "id": "60e94cdf-3c4c-43b8-86fa-41ee03debe1b",
   "metadata": {},
   "source": [
    "# 18. Write a NumPy program to convert a list of numeric values into a one-    dimensional NumPy array."
   ]
  },
  {
   "cell_type": "code",
   "execution_count": 30,
   "id": "a12ef481-6f9b-4e58-9491-fceb7a888db8",
   "metadata": {},
   "outputs": [],
   "source": [
    "l1=[11,22,33,44,55,66,77]"
   ]
  },
  {
   "cell_type": "code",
   "execution_count": 32,
   "id": "e7289f28-8954-4a99-92d9-416e6bd07c13",
   "metadata": {},
   "outputs": [
    {
     "name": "stdout",
     "output_type": "stream",
     "text": [
      "l1=[11, 22, 33, 44, 55, 66, 77] type of l1=<class 'list'>\n"
     ]
    }
   ],
   "source": [
    "print(f\"l1={l1} type of l1={type(l1)}\")"
   ]
  },
  {
   "cell_type": "code",
   "execution_count": 33,
   "id": "5ddbed12-bdbc-4518-9b98-45cd9e574e2d",
   "metadata": {},
   "outputs": [],
   "source": [
    "nparr=np.array(l1)"
   ]
  },
  {
   "cell_type": "code",
   "execution_count": 34,
   "id": "3c789157-fdb5-425b-8ab8-74dae92f307f",
   "metadata": {},
   "outputs": [
    {
     "name": "stdout",
     "output_type": "stream",
     "text": [
      "nparr=[11, 22, 33, 44, 55, 66, 77] type of l1=<class 'numpy.ndarray'>\n"
     ]
    }
   ],
   "source": [
    "print(f\"nparr={l1} type of l1={type(nparr)}\")"
   ]
  },
  {
   "cell_type": "raw",
   "id": "dd679221-f4de-4973-9df5-aa20b5a3992e",
   "metadata": {},
   "source": []
  },
  {
   "cell_type": "raw",
   "id": "827ececa-1dd9-4c24-9006-d9df404e9de5",
   "metadata": {},
   "source": [
    "# 19. Write a NumPy program to create a 3x3 matrix with values ranging from 2     to 10."
   ]
  },
  {
   "cell_type": "code",
   "execution_count": 39,
   "id": "ea37d1bc-9f02-44ed-adb8-363790342726",
   "metadata": {},
   "outputs": [
    {
     "name": "stdout",
     "output_type": "stream",
     "text": [
      "[ 2  3  4  5  6  7  8  9 10]\n",
      "[[ 2  3  4]\n",
      " [ 5  6  7]\n",
      " [ 8  9 10]]\n"
     ]
    }
   ],
   "source": [
    "arr12=np.arange(2,11)\n",
    "print(arr12)\n",
    "arr12=arr12.reshape([3,3])\n",
    "print(arr12)"
   ]
  },
  {
   "cell_type": "raw",
   "id": "825599d3-eb09-4b70-99a5-5016f79f97d8",
   "metadata": {},
   "source": []
  },
  {
   "cell_type": "raw",
   "id": "1aca69a2-32fc-4112-9327-5ca49a487268",
   "metadata": {},
   "source": [
    "# 20. Write a NumPy program to create an array with values ranging from 12 to 38."
   ]
  },
  {
   "cell_type": "code",
   "execution_count": 41,
   "id": "c07bac26-f166-461a-8c6a-08850e11d28e",
   "metadata": {},
   "outputs": [
    {
     "name": "stdout",
     "output_type": "stream",
     "text": [
      "[12 13 14 15 16 17 18 19 20 21 22 23 24 25 26 27 28 29 30 31 32 33 34 35\n",
      " 36 37 38]\n"
     ]
    }
   ],
   "source": [
    "arr13=np.arange(12,39)\n",
    "print(arr13)"
   ]
  },
  {
   "cell_type": "raw",
   "id": "b14cafdd-8785-48f5-9efa-929c41382103",
   "metadata": {},
   "source": []
  },
  {
   "cell_type": "raw",
   "id": "2ea49357-274c-421e-b2fa-3c4c2ee87bbc",
   "metadata": {},
   "source": [
    "#  21. Write a NumPy program to reverse an array (the first element becomes the last)."
   ]
  },
  {
   "cell_type": "code",
   "execution_count": 51,
   "id": "9cb0698a-3512-43fb-8b71-d5b4b8b79c2c",
   "metadata": {},
   "outputs": [
    {
     "name": "stdout",
     "output_type": "stream",
     "text": [
      "[77 50 50 40 30 20 10]\n"
     ]
    }
   ],
   "source": [
    "arr13=np.array([10,20,30,40,50,50,77])\n",
    "arr13=np.flip(arr13)\n",
    "print(arr13)\n"
   ]
  },
  {
   "cell_type": "code",
   "execution_count": 54,
   "id": "17a93d06-e965-4758-b54f-561108e1471b",
   "metadata": {},
   "outputs": [
    {
     "name": "stdout",
     "output_type": "stream",
     "text": [
      "[77 50 50 40 30 20 10]\n"
     ]
    }
   ],
   "source": [
    "arr14=np.array([10,20,30,40,50,50,77])\n",
    "arr14=np.flipud(arr14)\n",
    "print(arr14)\n"
   ]
  },
  {
   "cell_type": "code",
   "execution_count": 55,
   "id": "876dfba7-79b9-48d1-b25e-39a393eaa901",
   "metadata": {},
   "outputs": [
    {
     "name": "stdout",
     "output_type": "stream",
     "text": [
      "[77 50 50 40 30 20 10]\n"
     ]
    }
   ],
   "source": [
    "arr15=np.array([10,20,30,40,50,50,77])\n",
    "arr15=arr15[::-1]\n",
    "print(arr15)"
   ]
  },
  {
   "cell_type": "raw",
   "id": "459c2223-8698-4852-8dd5-cb123440da7d",
   "metadata": {},
   "source": []
  },
  {
   "cell_type": "raw",
   "id": "045465c6-8411-45e7-9050-99021810d233",
   "metadata": {},
   "source": []
  },
  {
   "cell_type": "code",
   "execution_count": 56,
   "id": "5b26c719-0561-41e9-bab5-f284547b6d30",
   "metadata": {},
   "outputs": [
    {
     "name": "stdout",
     "output_type": "stream",
     "text": [
      "[0 1 2 3 4 5 6]\n",
      "Element-wise remainder of division:\n",
      "[0 1 2 3 4 0 1]\n"
     ]
    }
   ],
   "source": [
    "arr17 = np.arange(7)\n",
    "print(arr17)\n",
    "\n",
    "print(\"Element-wise remainder of division:\")\n",
    "print(np.remainder(arr17, 5))\n"
   ]
  },
  {
   "cell_type": "raw",
   "id": "4e4256b6-5a78-48be-892a-c00c77d54adc",
   "metadata": {},
   "source": []
  },
  {
   "cell_type": "raw",
   "id": "c671eda0-0b51-4024-b668-cd009fd6a387",
   "metadata": {},
   "source": [
    "\n",
    " #22. Write a NumPy program to convert an data type into to a floating type."
   ]
  },
  {
   "cell_type": "code",
   "execution_count": 58,
   "id": "66fb4301-caab-4ad4-b6d3-d6d9ba2a0642",
   "metadata": {},
   "outputs": [
    {
     "name": "stdout",
     "output_type": "stream",
     "text": [
      "[0. 1. 2. 3. 4. 5. 6.]\n"
     ]
    }
   ],
   "source": [
    "arr18=arr17.astype(float)\n",
    "print(arr18)"
   ]
  },
  {
   "cell_type": "raw",
   "id": "ca30411f-fc4b-4ce1-927f-754d6b35602f",
   "metadata": {},
   "source": []
  },
  {
   "cell_type": "raw",
   "id": "7b453af4-a89e-4713-bfba-03a509849e9b",
   "metadata": {},
   "source": [
    "# 25. Write a NumPy program to get the element-wise remainder of an array of numbers from 20 to 50 which are divisible by 3."
   ]
  },
  {
   "cell_type": "code",
   "execution_count": 59,
   "id": "7257d9d0-423e-470d-8463-9055ea14a36c",
   "metadata": {},
   "outputs": [
    {
     "name": "stdout",
     "output_type": "stream",
     "text": [
      "[20 21 22 23 24 25 26 27 28 29 30 31 32 33 34 35 36 37 38 39 40 41 42 43\n",
      " 44 45 46 47 48 49]\n",
      "Element-wise remainder of division:\n",
      "[2 0 1 2 0 1 2 0 1 2 0 1 2 0 1 2 0 1 2 0 1 2 0 1 2 0 1 2 0 1]\n"
     ]
    }
   ],
   "source": [
    "arr19 = np.arange(20,50)\n",
    "print(arr19)\n",
    "\n",
    "print(\"Element-wise remainder of division:\")\n",
    "print(np.remainder(arr19, 3))"
   ]
  },
  {
   "cell_type": "code",
   "execution_count": null,
   "id": "2c59e14e-2a75-4acb-81cf-e4d5f056eb39",
   "metadata": {},
   "outputs": [],
   "source": []
  }
 ],
 "metadata": {
  "kernelspec": {
   "display_name": "Python 3 (ipykernel)",
   "language": "python",
   "name": "python3"
  },
  "language_info": {
   "codemirror_mode": {
    "name": "ipython",
    "version": 3
   },
   "file_extension": ".py",
   "mimetype": "text/x-python",
   "name": "python",
   "nbconvert_exporter": "python",
   "pygments_lexer": "ipython3",
   "version": "3.10.12"
  }
 },
 "nbformat": 4,
 "nbformat_minor": 5
}
